{
 "cells": [
  {
   "cell_type": "code",
   "execution_count": 1,
   "metadata": {
    "collapsed": true
   },
   "outputs": [],
   "source": [
    "## importing libraries\n",
    "import numpy as np\n",
    "import pandas as pd\n",
    "import sklearn\n",
    "import os\n",
    "import matplotlib.pyplot as plt\n",
    "%matplotlib inline"
   ]
  },
  {
   "cell_type": "code",
   "execution_count": 2,
   "metadata": {
    "collapsed": true
   },
   "outputs": [],
   "source": [
    "## Importing Data\n",
    "train = pd.read_csv('gcTrianingSet.csv')\n",
    "test = pd.read_csv('gcPredictionFile.csv')"
   ]
  },
  {
   "cell_type": "markdown",
   "metadata": {},
   "source": [
    "# Data Exploration"
   ]
  },
  {
   "cell_type": "code",
   "execution_count": 38,
   "metadata": {},
   "outputs": [
    {
     "data": {
      "text/plain": [
       "Index(['initialUsedMemory', 'initialFreeMemory', 'query token', 'gcRun',\n",
       "       'gcInitialMemory', 'gcFinalMemory', 'gcTotalMemory', 'userTime',\n",
       "       'sysTime', 'realTime', 'cpuTimeTaken', 'finalUsedMemory',\n",
       "       'finalFreeMemory', 'Memory'],\n",
       "      dtype='object')"
      ]
     },
     "execution_count": 38,
     "metadata": {},
     "output_type": "execute_result"
    }
   ],
   "source": [
    "train.columns"
   ]
  },
  {
   "cell_type": "code",
   "execution_count": 4,
   "metadata": {},
   "outputs": [
    {
     "data": {
      "text/html": [
       "<div>\n",
       "<style>\n",
       "    .dataframe thead tr:only-child th {\n",
       "        text-align: right;\n",
       "    }\n",
       "\n",
       "    .dataframe thead th {\n",
       "        text-align: left;\n",
       "    }\n",
       "\n",
       "    .dataframe tbody tr th {\n",
       "        vertical-align: top;\n",
       "    }\n",
       "</style>\n",
       "<table border=\"1\" class=\"dataframe\">\n",
       "  <thead>\n",
       "    <tr style=\"text-align: right;\">\n",
       "      <th></th>\n",
       "      <th>initialUsedMemory</th>\n",
       "      <th>initialFreeMemory</th>\n",
       "      <th>query token</th>\n",
       "      <th>gcRun</th>\n",
       "      <th>gcInitialMemory</th>\n",
       "      <th>gcFinalMemory</th>\n",
       "      <th>gcTotalMemory</th>\n",
       "      <th>userTime</th>\n",
       "      <th>sysTime</th>\n",
       "      <th>realTime</th>\n",
       "      <th>cpuTimeTaken</th>\n",
       "      <th>finalUsedMemory</th>\n",
       "      <th>finalFreeMemory</th>\n",
       "    </tr>\n",
       "  </thead>\n",
       "  <tbody>\n",
       "    <tr>\n",
       "      <th>0</th>\n",
       "      <td>4.249634</td>\n",
       "      <td>2.999878</td>\n",
       "      <td>token_1</td>\n",
       "      <td>False</td>\n",
       "      <td>0.0</td>\n",
       "      <td>0.0</td>\n",
       "      <td>0.0</td>\n",
       "      <td>0.0</td>\n",
       "      <td>0.0</td>\n",
       "      <td>0.0</td>\n",
       "      <td>0.371230</td>\n",
       "      <td>4.409714</td>\n",
       "      <td>2.839798</td>\n",
       "    </tr>\n",
       "    <tr>\n",
       "      <th>1</th>\n",
       "      <td>4.409720</td>\n",
       "      <td>2.839792</td>\n",
       "      <td>token_2</td>\n",
       "      <td>False</td>\n",
       "      <td>0.0</td>\n",
       "      <td>0.0</td>\n",
       "      <td>0.0</td>\n",
       "      <td>0.0</td>\n",
       "      <td>0.0</td>\n",
       "      <td>0.0</td>\n",
       "      <td>0.220883</td>\n",
       "      <td>4.482361</td>\n",
       "      <td>2.767151</td>\n",
       "    </tr>\n",
       "    <tr>\n",
       "      <th>2</th>\n",
       "      <td>4.482361</td>\n",
       "      <td>2.767151</td>\n",
       "      <td>token_3</td>\n",
       "      <td>False</td>\n",
       "      <td>0.0</td>\n",
       "      <td>0.0</td>\n",
       "      <td>0.0</td>\n",
       "      <td>0.0</td>\n",
       "      <td>0.0</td>\n",
       "      <td>0.0</td>\n",
       "      <td>0.141776</td>\n",
       "      <td>4.542626</td>\n",
       "      <td>2.706886</td>\n",
       "    </tr>\n",
       "    <tr>\n",
       "      <th>3</th>\n",
       "      <td>4.542626</td>\n",
       "      <td>2.706886</td>\n",
       "      <td>token_4</td>\n",
       "      <td>False</td>\n",
       "      <td>0.0</td>\n",
       "      <td>0.0</td>\n",
       "      <td>0.0</td>\n",
       "      <td>0.0</td>\n",
       "      <td>0.0</td>\n",
       "      <td>0.0</td>\n",
       "      <td>0.156459</td>\n",
       "      <td>4.616293</td>\n",
       "      <td>2.633218</td>\n",
       "    </tr>\n",
       "    <tr>\n",
       "      <th>4</th>\n",
       "      <td>4.616296</td>\n",
       "      <td>2.633216</td>\n",
       "      <td>token_5</td>\n",
       "      <td>False</td>\n",
       "      <td>0.0</td>\n",
       "      <td>0.0</td>\n",
       "      <td>0.0</td>\n",
       "      <td>0.0</td>\n",
       "      <td>0.0</td>\n",
       "      <td>0.0</td>\n",
       "      <td>0.285218</td>\n",
       "      <td>4.787172</td>\n",
       "      <td>2.462339</td>\n",
       "    </tr>\n",
       "  </tbody>\n",
       "</table>\n",
       "</div>"
      ],
      "text/plain": [
       "   initialUsedMemory  initialFreeMemory query token  gcRun  gcInitialMemory  \\\n",
       "0           4.249634           2.999878     token_1  False              0.0   \n",
       "1           4.409720           2.839792     token_2  False              0.0   \n",
       "2           4.482361           2.767151     token_3  False              0.0   \n",
       "3           4.542626           2.706886     token_4  False              0.0   \n",
       "4           4.616296           2.633216     token_5  False              0.0   \n",
       "\n",
       "   gcFinalMemory  gcTotalMemory  userTime  sysTime  realTime  cpuTimeTaken  \\\n",
       "0            0.0            0.0       0.0      0.0       0.0      0.371230   \n",
       "1            0.0            0.0       0.0      0.0       0.0      0.220883   \n",
       "2            0.0            0.0       0.0      0.0       0.0      0.141776   \n",
       "3            0.0            0.0       0.0      0.0       0.0      0.156459   \n",
       "4            0.0            0.0       0.0      0.0       0.0      0.285218   \n",
       "\n",
       "   finalUsedMemory  finalFreeMemory  \n",
       "0         4.409714         2.839798  \n",
       "1         4.482361         2.767151  \n",
       "2         4.542626         2.706886  \n",
       "3         4.616293         2.633218  \n",
       "4         4.787172         2.462339  "
      ]
     },
     "execution_count": 4,
     "metadata": {},
     "output_type": "execute_result"
    }
   ],
   "source": [
    "train.head()"
   ]
  },
  {
   "cell_type": "code",
   "execution_count": 8,
   "metadata": {},
   "outputs": [
    {
     "data": {
      "text/plain": [
       "array([], dtype=object)"
      ]
     },
     "execution_count": 8,
     "metadata": {},
     "output_type": "execute_result"
    }
   ],
   "source": [
    "np.setdiff1d(train['query token'],test['query token'])"
   ]
  },
  {
   "cell_type": "markdown",
   "metadata": {},
   "source": [
    "therefore all tokens are present in train and test file."
   ]
  },
  {
   "cell_type": "code",
   "execution_count": 11,
   "metadata": {},
   "outputs": [
    {
     "data": {
      "text/plain": [
       "False    0.937363\n",
       "True     0.062637\n",
       "Name: gcRun, dtype: float64"
      ]
     },
     "execution_count": 11,
     "metadata": {},
     "output_type": "execute_result"
    }
   ],
   "source": [
    "train['gcRun'].value_counts()/train.shape[0]"
   ]
  },
  {
   "cell_type": "code",
   "execution_count": 21,
   "metadata": {},
   "outputs": [
    {
     "data": {
      "text/plain": [
       "91"
      ]
     },
     "execution_count": 21,
     "metadata": {},
     "output_type": "execute_result"
    }
   ],
   "source": [
    "len(np.unique(train['query token']))"
   ]
  },
  {
   "cell_type": "code",
   "execution_count": 31,
   "metadata": {
    "collapsed": true
   },
   "outputs": [],
   "source": [
    "#train['Memory'] = train['finalUsedMemory'] - train['initialUsedMemory']"
   ]
  },
  {
   "cell_type": "code",
   "execution_count": 51,
   "metadata": {},
   "outputs": [
    {
     "data": {
      "text/html": [
       "<div>\n",
       "<style>\n",
       "    .dataframe thead tr:only-child th {\n",
       "        text-align: right;\n",
       "    }\n",
       "\n",
       "    .dataframe thead th {\n",
       "        text-align: left;\n",
       "    }\n",
       "\n",
       "    .dataframe tbody tr th {\n",
       "        vertical-align: top;\n",
       "    }\n",
       "</style>\n",
       "<table border=\"1\" class=\"dataframe\">\n",
       "  <thead>\n",
       "    <tr style=\"text-align: right;\">\n",
       "      <th></th>\n",
       "      <th>count</th>\n",
       "      <th>mean</th>\n",
       "      <th>std</th>\n",
       "      <th>min</th>\n",
       "      <th>25%</th>\n",
       "      <th>50%</th>\n",
       "      <th>75%</th>\n",
       "      <th>max</th>\n",
       "    </tr>\n",
       "    <tr>\n",
       "      <th>gcRun</th>\n",
       "      <th></th>\n",
       "      <th></th>\n",
       "      <th></th>\n",
       "      <th></th>\n",
       "      <th></th>\n",
       "      <th></th>\n",
       "      <th></th>\n",
       "      <th></th>\n",
       "    </tr>\n",
       "  </thead>\n",
       "  <tbody>\n",
       "    <tr>\n",
       "      <th>False</th>\n",
       "      <td>2559.0</td>\n",
       "      <td>0.178492</td>\n",
       "      <td>0.116777</td>\n",
       "      <td>0.001052</td>\n",
       "      <td>0.111673</td>\n",
       "      <td>0.139285</td>\n",
       "      <td>0.225554</td>\n",
       "      <td>0.906536</td>\n",
       "    </tr>\n",
       "    <tr>\n",
       "      <th>True</th>\n",
       "      <td>171.0</td>\n",
       "      <td>0.307444</td>\n",
       "      <td>0.215037</td>\n",
       "      <td>0.082834</td>\n",
       "      <td>0.132598</td>\n",
       "      <td>0.234050</td>\n",
       "      <td>0.400445</td>\n",
       "      <td>0.873825</td>\n",
       "    </tr>\n",
       "  </tbody>\n",
       "</table>\n",
       "</div>"
      ],
      "text/plain": [
       "        count      mean       std       min       25%       50%       75%  \\\n",
       "gcRun                                                                       \n",
       "False  2559.0  0.178492  0.116777  0.001052  0.111673  0.139285  0.225554   \n",
       "True    171.0  0.307444  0.215037  0.082834  0.132598  0.234050  0.400445   \n",
       "\n",
       "            max  \n",
       "gcRun            \n",
       "False  0.906536  \n",
       "True   0.873825  "
      ]
     },
     "execution_count": 51,
     "metadata": {},
     "output_type": "execute_result"
    }
   ],
   "source": [
    "train.groupby('gcRun')['cpuTimeTaken'].describe()"
   ]
  },
  {
   "cell_type": "markdown",
   "metadata": {},
   "source": [
    "# Modelling"
   ]
  },
  {
   "cell_type": "code",
   "execution_count": 222,
   "metadata": {
    "collapsed": true
   },
   "outputs": [],
   "source": [
    "## modelling\n",
    "\n",
    "training = train[['query token', 'cpuTimeTaken','initialFreeMemory']]\n",
    "testing = test[['query token','cpuTimeTaken']]"
   ]
  },
  {
   "cell_type": "code",
   "execution_count": 223,
   "metadata": {
    "collapsed": true
   },
   "outputs": [],
   "source": [
    "# label encoding query token\n",
    "from sklearn.preprocessing import LabelEncoder\n",
    "number = LabelEncoder()"
   ]
  },
  {
   "cell_type": "code",
   "execution_count": 224,
   "metadata": {
    "collapsed": true
   },
   "outputs": [],
   "source": [
    "combi = pd.concat([training,testing])\n",
    "combi['query token'] = number.fit_transform(combi['query token'])\n",
    "\n",
    "combi['query token'] = combi['query token'].astype('object')\n",
    "\n",
    "training = combi[:training.shape[0]]\n",
    "testing = combi[training.shape[0]:]"
   ]
  },
  {
   "cell_type": "markdown",
   "metadata": {},
   "source": [
    "## Random forest"
   ]
  },
  {
   "cell_type": "code",
   "execution_count": 225,
   "metadata": {},
   "outputs": [
    {
     "name": "stderr",
     "output_type": "stream",
     "text": [
      "/Users/shubhamjain/anaconda/lib/python3.6/site-packages/ipykernel_launcher.py:1: SettingWithCopyWarning: \n",
      "A value is trying to be set on a copy of a slice from a DataFrame\n",
      "\n",
      "See the caveats in the documentation: http://pandas.pydata.org/pandas-docs/stable/indexing.html#indexing-view-versus-copy\n",
      "  \"\"\"Entry point for launching an IPython kernel.\n"
     ]
    }
   ],
   "source": [
    "testing.drop('initialFreeMemory',axis=1,inplace=True)\n",
    "\n",
    "## random forest\n",
    "\n",
    "from sklearn.ensemble import RandomForestRegressor\n",
    "model = RandomForestRegressor(n_estimators=200, max_depth=3)\n",
    "\n",
    "model.fit(training.drop('initialFreeMemory',axis=1), training['initialFreeMemory'])\n",
    "\n",
    "pred = model.predict(testing)"
   ]
  },
  {
   "cell_type": "code",
   "execution_count": 226,
   "metadata": {},
   "outputs": [
    {
     "data": {
      "text/plain": [
       "(1625,)"
      ]
     },
     "execution_count": 226,
     "metadata": {},
     "output_type": "execute_result"
    }
   ],
   "source": [
    "pred[pred > 0 ].shape"
   ]
  },
  {
   "cell_type": "code",
   "execution_count": 227,
   "metadata": {},
   "outputs": [
    {
     "data": {
      "text/plain": [
       "array([ 1.98597474,  1.89028157,  1.93596205, ...,  1.81073608,\n",
       "        1.88958885,  2.00862874])"
      ]
     },
     "execution_count": 227,
     "metadata": {},
     "output_type": "execute_result"
    }
   ],
   "source": [
    "pred"
   ]
  },
  {
   "cell_type": "code",
   "execution_count": 230,
   "metadata": {
    "collapsed": true
   },
   "outputs": [],
   "source": [
    "test['initialFreeMemory'] = pred\n",
    "\n",
    "test['gcRun'] = False\n",
    "\n",
    "for i in range(0,test.shape[0]-1):\n",
    "    if (test.loc[i+1, 'initialFreeMemory'] > test.loc[i,'initialFreeMemory']):\n",
    "        test.loc[i,'gcRun'] = True\n",
    "        \n",
    "sub = test[['initialFreeMemory','gcRun']].reset_index()\n",
    "sub.columns = ['serialNum','initialFreeMemory','gcRun']\n",
    "sub['serialNum'] = sub['serialNum'] + 1\n",
    "\n",
    "## for negative value, if any\n",
    "\n",
    "sub.loc[sub['initialFreeMemory'] < 0,'initialFreeMemory'] = sub.loc[sub['initialFreeMemory'] < 0,'initialFreeMemory'] * -1\n"
   ]
  },
  {
   "cell_type": "markdown",
   "metadata": {},
   "source": [
    "# Cross validation"
   ]
  },
  {
   "cell_type": "code",
   "execution_count": 213,
   "metadata": {
    "collapsed": true,
    "scrolled": true
   },
   "outputs": [],
   "source": [
    "training1 = training.groupby('query token').head(20)\n",
    "cv = training.groupby('query token').tail(10)"
   ]
  },
  {
   "cell_type": "code",
   "execution_count": 220,
   "metadata": {},
   "outputs": [
    {
     "name": "stdout",
     "output_type": "stream",
     "text": [
      "100 3 0.705847184338\n",
      "100 5 0.704794058373\n",
      "100 7 0.707573861093\n",
      "100 9 0.721896440982\n",
      "200 3 0.70342788431\n",
      "200 5 0.706317878694\n",
      "200 7 0.713802403784\n",
      "200 9 0.723453186123\n",
      "400 3 0.705470228966\n",
      "400 5 0.707704544865\n",
      "400 7 0.710875404333\n",
      "400 9 0.724168666875\n"
     ]
    }
   ],
   "source": [
    "## training on training1 dataset and predicting on cv to tune the parameters\n",
    "from sklearn.metrics import mean_squared_error\n",
    "for n in [100,200,400]:\n",
    "    for d in [3,5,7,9]:\n",
    "        model = RandomForestRegressor(n_estimators= n, max_depth=d, oob_score=True)\n",
    "        model.fit(training1.drop('initialFreeMemory',axis=1), training1['initialFreeMemory'])\n",
    "        \n",
    "        pred = model.predict(cv.drop('initialFreeMemory',axis=1))\n",
    "        \n",
    "        print (n,d, mean_squared_error(cv['initialFreeMemory'], pred))"
   ]
  },
  {
   "cell_type": "code",
   "execution_count": null,
   "metadata": {},
   "outputs": [],
   "source": [
    "## submission\n",
    "sub.to_csv('Pred_RF.csv',index=False)"
   ]
  },
  {
   "cell_type": "markdown",
   "metadata": {},
   "source": [
    "### Obtained a score of 302 on the leaderboard."
   ]
  },
  {
   "cell_type": "markdown",
   "metadata": {},
   "source": [
    "## XGBoost"
   ]
  },
  {
   "cell_type": "code",
   "execution_count": 235,
   "metadata": {},
   "outputs": [
    {
     "name": "stderr",
     "output_type": "stream",
     "text": [
      "/Users/shubhamjain/anaconda/lib/python3.6/site-packages/sklearn/cross_validation.py:41: DeprecationWarning: This module was deprecated in version 0.18 in favor of the model_selection module into which all the refactored classes and functions are moved. Also note that the interface of the new CV iterators are different from that of this module. This module will be removed in 0.20.\n",
      "  \"This module will be removed in 0.20.\", DeprecationWarning)\n"
     ]
    }
   ],
   "source": [
    "## using xgboost model\n",
    "import xgboost as xgb\n",
    "\n",
    "xgb_para = {\n",
    "    'eta':0.05,\n",
    "    'max_depth':6,\n",
    "    'subsample':0.75,\n",
    "    'colsample_bytree':0.8,\n",
    "    'min_child_weight':1,\n",
    "    'objective':'reg:linear',\n",
    "    'eval_metric':'rmse',\n",
    "\n",
    "}"
   ]
  },
  {
   "cell_type": "code",
   "execution_count": 240,
   "metadata": {},
   "outputs": [
    {
     "name": "stderr",
     "output_type": "stream",
     "text": [
      "Exception ignored in: <bound method DMatrix.__del__ of <xgboost.core.DMatrix object at 0x11f7c80b8>>\n",
      "Traceback (most recent call last):\n",
      "  File \"/Users/shubhamjain/anaconda/lib/python3.6/site-packages/xgboost/core.py\", line 324, in __del__\n",
      "    _check_call(_LIB.XGDMatrixFree(self.handle))\n",
      "AttributeError: 'DMatrix' object has no attribute 'handle'\n",
      "/Users/shubhamjain/anaconda/lib/python3.6/site-packages/ipykernel_launcher.py:3: SettingWithCopyWarning: \n",
      "A value is trying to be set on a copy of a slice from a DataFrame.\n",
      "Try using .loc[row_indexer,col_indexer] = value instead\n",
      "\n",
      "See the caveats in the documentation: http://pandas.pydata.org/pandas-docs/stable/indexing.html#indexing-view-versus-copy\n",
      "  This is separate from the ipykernel package so we can avoid doing imports until\n",
      "/Users/shubhamjain/anaconda/lib/python3.6/site-packages/ipykernel_launcher.py:4: SettingWithCopyWarning: \n",
      "A value is trying to be set on a copy of a slice from a DataFrame.\n",
      "Try using .loc[row_indexer,col_indexer] = value instead\n",
      "\n",
      "See the caveats in the documentation: http://pandas.pydata.org/pandas-docs/stable/indexing.html#indexing-view-versus-copy\n",
      "  after removing the cwd from sys.path.\n"
     ]
    }
   ],
   "source": [
    "#Dmatrix\n",
    "\n",
    "training['query token'] = training['query token'].astype('int')\n",
    "testing['query token'] = testing['query token'].astype('int')\n",
    "\n",
    "\n",
    "dtrain = xgb.DMatrix(training.drop('initialFreeMemory',axis=1), training['initialFreeMemory'])\n",
    "dtest = xgb.DMatrix(testing)"
   ]
  },
  {
   "cell_type": "code",
   "execution_count": 241,
   "metadata": {},
   "outputs": [
    {
     "name": "stdout",
     "output_type": "stream",
     "text": [
      "[0]\ttrain-rmse:1.53325\ttest-rmse:1.53348\n",
      "[50]\ttrain-rmse:0.703761\ttest-rmse:0.742537\n",
      "[100]\ttrain-rmse:0.675392\ttest-rmse:0.742814\n",
      "74\n"
     ]
    }
   ],
   "source": [
    "#xgboost cv\n",
    "cv_result = xgb.cv(xgb_para,\n",
    "                   dtrain,\n",
    "                   num_boost_round=200,\n",
    "                   early_stopping_rounds=50,\n",
    "                   verbose_eval=50,\n",
    "                   show_stdv=False)\n",
    "num_boost_rounds = len(cv_result)\n",
    "print (num_boost_rounds)\n",
    "\n",
    "model = xgb.train(dict(xgb_para), dtrain,num_boost_round=num_boost_rounds)"
   ]
  },
  {
   "cell_type": "code",
   "execution_count": 244,
   "metadata": {
    "collapsed": true
   },
   "outputs": [],
   "source": [
    "pred = model.predict(dtest)"
   ]
  },
  {
   "cell_type": "code",
   "execution_count": 245,
   "metadata": {
    "collapsed": true
   },
   "outputs": [],
   "source": [
    "test['initialFreeMemory'] = pred\n",
    "\n",
    "test['gcRun'] = False\n",
    "\n",
    "for i in range(0,test.shape[0]-1):\n",
    "    if (test.loc[i+1, 'initialFreeMemory'] > test.loc[i,'initialFreeMemory']):\n",
    "        test.loc[i,'gcRun'] = True\n",
    "        \n",
    "sub = test[['initialFreeMemory','gcRun']].reset_index()\n",
    "sub.columns = ['serialNum','initialFreeMemory','gcRun']\n",
    "sub['serialNum'] = sub['serialNum'] + 1\n",
    "\n",
    "## for negative value, if any\n",
    "\n",
    "sub.loc[sub['initialFreeMemory'] < 0,'initialFreeMemory'] = sub.loc[sub['initialFreeMemory'] < 0,'initialFreeMemory'] * -1\n"
   ]
  },
  {
   "cell_type": "code",
   "execution_count": null,
   "metadata": {
    "collapsed": true
   },
   "outputs": [],
   "source": [
    "## submission\n",
    "sub.to_csv('Pred_XGB.csv',index=False)"
   ]
  },
  {
   "cell_type": "markdown",
   "metadata": {},
   "source": [
    "### Obtained a score of 314 on the leaderboard."
   ]
  },
  {
   "cell_type": "markdown",
   "metadata": {},
   "source": [
    "### Finished the competition with 47th Rank among 350 teams from top 25 engineering colleges."
   ]
  },
  {
   "cell_type": "code",
   "execution_count": null,
   "metadata": {},
   "outputs": [],
   "source": []
  }
 ],
 "metadata": {
  "kernelspec": {
   "display_name": "Python 3",
   "language": "python",
   "name": "python3"
  },
  "language_info": {
   "codemirror_mode": {
    "name": "ipython",
    "version": 3
   },
   "file_extension": ".py",
   "mimetype": "text/x-python",
   "name": "python",
   "nbconvert_exporter": "python",
   "pygments_lexer": "ipython3",
   "version": "3.6.3"
  }
 },
 "nbformat": 4,
 "nbformat_minor": 2
}
